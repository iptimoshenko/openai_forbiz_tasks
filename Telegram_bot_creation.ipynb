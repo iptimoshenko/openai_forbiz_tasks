{
  "cells": [
    {
      "cell_type": "markdown",
      "metadata": {
        "id": "view-in-github",
        "colab_type": "text"
      },
      "source": [
        "<a href=\"https://colab.research.google.com/github/iptimoshenko/openai_forbiz_tasks/blob/main/Telegram_bot_creation.ipynb\" target=\"_parent\"><img src=\"https://colab.research.google.com/assets/colab-badge.svg\" alt=\"Open In Colab\"/></a>"
      ]
    },
    {
      "cell_type": "markdown",
      "metadata": {
        "id": "Z6J7DVo2mtAr"
      },
      "source": [
        "Code for chatGPT bot creation."
      ]
    },
    {
      "cell_type": "code",
      "execution_count": null,
      "metadata": {
        "id": "DisTpFvtmH6L"
      },
      "outputs": [],
      "source": [
        "!pip install openai\n",
        "!pip install langchain\n",
        "!pip install python-telegram-bot\n",
        "!pip install python-telegram-bot --upgrade\n",
        "!pip install faiss-cpu  # Use faiss-gpu for GPU version\n"
      ]
    },
    {
      "cell_type": "code",
      "execution_count": null,
      "metadata": {
        "id": "IknRnOLsHpBF"
      },
      "outputs": [],
      "source": [
        "# Replace 'your_api_key' with your actual OpenAI API key\n",
        "openai_api_key = ''\n",
        "os.environ[\"OPENAI_API_KEY\"] = openai_api_key"
      ]
    },
    {
      "cell_type": "code",
      "execution_count": null,
      "metadata": {
        "colab": {
          "base_uri": "https://localhost:8080/"
        },
        "id": "Berxfbn0QwEx",
        "outputId": "ef6819b9-6162-4a24-9a99-242037b52d01"
      },
      "outputs": [
        {
          "output_type": "stream",
          "name": "stdout",
          "text": [
            "Mounted at /content/drive\n"
          ]
        }
      ],
      "source": [
        "from google.colab import drive\n",
        "drive.mount('/content/drive')"
      ]
    },
    {
      "cell_type": "code",
      "execution_count": null,
      "metadata": {
        "id": "8wHk6qbDSDeF"
      },
      "outputs": [],
      "source": [
        "import json\n",
        "import os\n",
        "import openai\n",
        "from langchain.llms import OpenAI"
      ]
    },
    {
      "cell_type": "code",
      "execution_count": null,
      "metadata": {
        "id": "CRWNs0KmHuPA"
      },
      "outputs": [],
      "source": [
        "# Function to load JSON data\n",
        "def load_json(file_path):\n",
        "  with open(file_path, 'r', encoding='utf-8') as file:\n",
        "        return json.load(file)\n",
        "\n",
        "# Function to save JSON data\n",
        "def save_json(data, file_path):\n",
        "    with open(file_path, 'w', encoding='utf-8') as file:\n",
        "        json.dump(data, file, ensure_ascii=False, indent=4)"
      ]
    },
    {
      "cell_type": "code",
      "execution_count": null,
      "metadata": {
        "colab": {
          "base_uri": "https://localhost:8080/"
        },
        "id": "UaW5QjcCs5TC",
        "outputId": "82b2ce72-94f7-4bc3-8a7c-a49237ded659"
      },
      "outputs": [
        {
          "output_type": "stream",
          "name": "stdout",
          "text": [
            "[{'question': 'I’d like to address my low libido. Do you offer a body-to-body massage with mutual touch?', 'answer': 'Greetings Don, Thank you for filling in the form. I can help with awakening your libido. And my approach would be in focusing on recreating a healthy energy flow in your being rather than sourcing it from other bodies. From working with hundreds, I strongly believe that men’s focus on visual stimulation from outside is the main reason for their burnouts, low libido and similar problems. I do not offer body to body massage and my two-way touch sessions do not involve genital touch. My value is quite exceptional and something that is easily felt by clients: I have an exceptionally healthy body and strong energetic system that has been developed with 23 years of rigorous physical, mental and spiritual training. This means that my body and energetic system is capable of guiding your body to a richer state without our mind involvement. Bodies just need to be comfortable in each others presence. And so long as there is openess and agreement to the container, that is easily achieved. I support clients in connecting with their bodies & bringing a lot more energy and awareness into their higher energy centres so that a more loving and deeply connected habitual experiences are possible. Once that is done, one can feel and bring a lot more sensations through presence, balancing of intensity and speed, pauses and energetic activation. An ethical way to learn such material is by practicing on less vulnerable body parts. Once attention, presence and an ability to slow down are mastered, a quality intimate touch becomes a natural progression. If you’re interested, it works best to have the first session both for you to get an embodied sense of the fundamentals of my work and for me to get a sense of where you are at. In the end of it I’ll be better able to suggest a path, and you can sign up for the programme if it feels good. The format for the first session is described here and it can be amended to suit your needs while remaining in one-way touch container. https://www.tantricmassage.life/firstexprience Kind regards'}, {'question': 'Hello Tais, how are you?', 'answer': \"Good evening, Thank you for reaching out. If you have not read the profile, please do so now because I don't offer habit. It's a profound educational, spiritual and healing work. If you're interested in a session and know what you desire, feel free to communicate it here. Otherwise, in order to help us understand your needs, you could fill in the form, and I'll let you know if I can support your intention. The form is here https://forms.gle/BaZWnUCiJHrqQHxG8 I work on principles of authentic connection & listening to the body's natural boundaries. I guide through exercises on consent in habituality and deep feeling into openness as an essential part of my first sessions. A summary of my tantric approach and various services is here: tantricmassage.life Namaste\"}, {'question': 'Do offer in person tantric sessions?', 'answer': 'Yes, the information in my profile describes different in person sessions, Thier format and possible progression'}, {'question': 'I’m extremely interested in a physical session. However there’s one thing I’d like to work on. I tend to finish really quickly and I was wondering if you could help with lasting longer? I’m 27 male and a virgin.', 'answer': 'Yes, the work I do very much helps with that. Some people achieve hours after a month (3-5 sessions or online) of my method.'}, {'question': 'Does the work happen in-person or online?', 'answer': 'The first module of my work is perfectly suitable for online. And that material is best to be practiced for 2-4 weeks prior to an in-person session. People that follow this format get best results.'}, {'question': 'This Can help me immensely.', 'answer': \"Most likely. I never had people that practiced and had no effect. I have 50+ year old guys starting with me and having full body orgasms within a few weeks of working just online. And for younger people it's generally easier.\"}, {'question': 'And on a website it says you offer 69 services? Is that true?', 'answer': 'Its a mistake. I don’t engage into 2-way habitual interactions with clients.'}, {'question': 'I asked because I want to know how I can please a woman with my mouth.', 'answer': \"basically any interactive modes with me are advanced practices that can only be considered after a few months of work. And it's not going to look anything similar to what most people are aware. The work I do is literally worlds apart from common habituality. You cannot see that anywhere on the screen (porn, movies, etc). I hide bodies & minde to go to alternate states of consciousness like in deep prayer. Until that is a natural state for a person while habitually aroused, interaction with me is not accessible. This is done simply because it doesn't work any other way. Man get overpowered by their habitual energy and are unable to focus on activating their higher energy centres.\"}, {'question': 'Yeah but would it be physical?', 'answer': 'No, it’s outside of my boundaries. Also I believe there is very little value for it in being physical: female genitals are very-very different and they like very different, often opposite things. I have to show every single new lover how to please me.'}, {'question': 'Oh I didn’t know okay. Wow I need a lot of work then. Yeah but if I met you in London, how would this session play out?', 'answer': \"So what you need to do is to learn how to explore comfortably and with joy. The most valuable learning is about our state of mind. And how to feel and explore your own body. That helps hugely with knowing how to be with others. Its like 70%. And it doesn't even require meeting me. Then, when I give you massage, you can learn different kind of strokes. And I can explain how to draw parallels between male & female organs. They are actually quite similar, e.g. clitoris is made up of the same tissue as penis. And I know how to give better skills for oral habit than pleasing me. You can't imagine it, but I have everything different about my body because of 10 years of tantra. Interacting with me will help you to pleasure a woman as much as driving a sports car helps to learn how to ride a bicycle.\"}, {'question': 'Good morning Thais, I am so curious about your therapy session. I am on a ‘journey’ expanding my horizons across the board after years of a mono focus on career and neglecting my soul in the process. Today I find myself in London on work and looking for an experience to nourish my quest and the universe has served me your session. I am leaving tomorrow early morning, so I appreciate this is last minute but worth the question. I guess with a degree of bashfulness and nervousness but enough curiosity to push forward, what’s the session like? How much does it cost, what should I expect? And lastly is there an opening tonight around 6 pm? Oh and location so I can gauge the distance', 'answer': 'I’m going to offer you a format for the first session, and we can have a discovery call afterwards if you find it interesting, but have some questions or need to share something else. How does this sound? I would suggest a combination of regular mindful self-pleasure practice at home with my support combined with in-person sessions. The former builds your relationship with your physical body and emotions, and the latter serves as healing support and a boost in terms of skills and knowledge. You can start either way, these formats are mutually enhancing. Here is the suggested format for the first in-person session: https://www.tantricmassage.life/firstexprience'}, {'question': 'Hey Thais, you sound like a gentle soul, I would be curious to learn about your journey! I wish I had the time to dedicate to the above protocol but I am pressed for time and can probably pull off an 1.5 hour this afternoon from 6 to 7:30. Given the above, would it be impactful to condense foundational elements and a relaxing massage to apply the techniques? Or would it not be a long enough duration to absorb the principals? I am staying at an Airbnb off Hesper Mews, decent enough mattress and privacy. Perhaps also a little about me, I am a CEO of a tech company, 46 years old, not embarking on this for a cheap thrill but looking for tooling practices from subject matter experts to navigate my innner workings. Alternate settings like psilocybin therapy / MDMA therapy, meditation sessions, etc. Your approach caught my eye, and I seemed along the same lines of the path I am on. Correct me if I am wrong. So if a 1.5 from 6:00-7:30 makes sense and could be meaingful, could you share the reasonable cost and if you think I can benefit from such an interaction', 'answer': \"Yes, we could do 1.5 hrs if we go straight into embodied meditation+massage. In order for this to land well over time, we'd want to add the framework later. We can do this in an online session. I have substantial experience with the role of psychedelics in this work & therapy. We can speak more offline. The price will still be £390 given the travel, etc. And it'll include a 30 min online conversation at a later date. If you'd like a session, please could you send a £70 deposit via PayPal, revolut or wise to iptimoshenko@gmail.com By 16:15. Otherwise there won't be enough time. And if today is too tight, we can also start with online sessions.\"}, {'question': 'Hi!! Sorry today is manic! My name is Moe 👋. Looks like today is going to be too tight. I have a trip coming to London soon, now that we know each other I will better plan for us to have enough time. It’s a real pleasure to have found you and excited on going on a journey', 'answer': \"Ok, sounds good. Also, as I work globally, I recommend getting in touch a couple of weeks in advance as I often have a few weeks waiting list. And if you only have 2 hrs for in-person session, then I strongly encourage to arrange a 1 HR coaching session before that. We'd cover the fundamentals and the embodied meditation. Its very suitable for online as doesn't involve my touch. This can greatly enhance your masturbation, any psychedelic experiences and/or be used as a morning warmup. https://www.tantricmassage.life/mindful-heart-and-body-pleasuring If you haven't yet, looking at the Home & About pages is also very helpful.\"}, {'question': 'Hi, I’m a 41 year old Irish guy. Really interested in your intimacy coaching. Essentially I want to learn how to be as good as I can possibly be at habit and intimate pleasure', 'answer': 'hi Andrew, thank you for your request. Sure, I feel that I can support you in this. The intimacy coaching programme is tailored to where you are and how you progress with the material. It works best to have the first session both for you to get an embodied sense of the fundamentals of my work and for me to get a sense of where you are at. In the end of it I’ll be better able to suggest a path, and you can sign up for the programme if it feels good. The format for the first session is described here https://www.tantricmassage.life/firstexprience If you could please read that and the page linked there for Booking. There is a short form to fill in. It helps to ensure there are no contra-indications. Then I’ll get back to you to arrange a session. Please note that initial session format in terms of the levels of interaction is as described on the website, and you’ll be able to also see why 😊 Looking forward to hearing from you soon'}, {'question': 'Hi Irina, Thanks for your reply. I have filled in the form now. Looking forward to hearing from you soon to book in our first session.', 'answer': 'Hi Andrew, Thanks for filling in the form. The format for the in-person session I suggested above seems to fit your intention very well. Given that you masturbate a lot, it’ll be amazing to complement the in-person work with my mindful masturbation programme. That’s something you do mostly at home with my online guidance. I’ll explain more when we meet. I suggest for the first session to be 3-4 hrs. 2-2.5 hrs can also work, but longer sessions allow for a more immersive experience. And there are a few fundamental blocks to cover. Two hrs length is more suitable for the following sessions. The price is £350 for 3 hrs, £420 for 4 hrs and £270 for hours hrs. In terms of booking a session, what time of day is best for you? I do anywhere between 7 and 22. And I work some Saturdays. Kind regards'}, {'question': 'Sounds good. Typically midweek daytime works best for me. How about next Wednesday morning at 10am? We could do 3 hours maybe? Where are you located?', 'answer': 'Great. Wednesday, 8th 10-13 is currently available. My session space is a 4-min and walk from Bermondsey station, Jubilee line. I also offer session near Liverpool Street station. I’m at full capacity there for next week and it’s £60 extra charge. If you’re ok to book for Wednesday, there is a £50 deposit to confirm. The deposit is refundable or transferable with 72+ hrs notice. It can be paid via PayPal, wise or Revolut to iptimoshenko@gmail.com. I can also shear my bank account details of preferred.'}, {'question': 'Can you give an example of the path after the first session?', 'answer': 'I’ll offer a reflection here and a suggestion of what can be done further. Your physical body is quite sensitised, which is great news. I feel that you could enrich your experience by bringing more energy up your body: to the heart and head. The quality of your orgasms and life in those places in general can significantly change through such practices. This programme would be great for such objective as well as to continue exploring the vast diversity of your habitual expression: https://www.tantricmassage.life/mindful-heart-and-body-pleasuring In-person sessions could also be first geared towards bringing the energy up the body to a maximum, and then progressing to exploring Consent and authentic boundaries through 2-way touch. For that last part, it’s amazing to have a 2-4 week of a regular mindful self-pleasure practice so that your idea of touch and it’s effects is expanded prior to engaging with someone else. This allows for safety of learning and letting usual patterns to sit aside for some time. If you’d like to purchase the 12hr package and have your first session be a part of that investment, you can do so within 72hrs of the first session. Please let me know if you have any questions.'}, {'question': 'Could you clarify exactly what is involved in the 2 way touch that you refer to?', 'answer': \"The programme objective is not in becoming a massage virtuoso. That will take a lot longer than 12 hrs. It's about learning to shift focus from what is perceived as important due to current cultural conditioning (intensity, seduction, amazing techniques) to what's really important for humans to feel a lot of pleasure in habituality: a sense of safety, generous offering from the heart, genuine care and listening/presence. Two-way touch starts with exercises on the Wheel of Consent. It's instrumental to learn to be in all 4 roles of such interaction: take, alllow, serve and request. It's practiced on forearms. This allows for a safe playground and also ability to see how much nuance can be sensed in such a small and incorrectly perceived as unhabity part of the body. As this tends to be one of the main concern of men asking such questions, I'll say explicitly: touching of my genitals is not a part of any programme. I can involve a model at an extra charge. Also please note that, from experience of hundreds of people, I firmly believe that touching someone's genitals is not something that adds educational value at this stage. It's an advanced practice that one is not capable of learning before taking time to train their presence and shift the value they place on a physical component of an experience. My value lies in something very different than offering my body for touch: I have an exceptionally healthy body and strong energetic system that has been developed with 23 years of rigorous physical, mental and spiritual training. This means that my body and energetic system is capable of guiding your body to a richer state without our mind involvement. Bodies just need to be comfortable in each others presence. And so long as there is openess and agreement to the container, that is easily achieved.  kind regards\"}, {'question': \"I'm a 49 y.o. Asian male. I've not been with women much in my life. I'd like to learn to pleasure a woman. What can you suggest?\", 'answer': \"hi Jazz, Thank you for filling in the form. Your demographics do not appear as concerning to me. I believe that 90% of women's pleasure comes from an ability of their partner to be fully with them, their emotions, their ecstasy and their pains. And that involves ability to listen to their words, their body language and any subtle clues. I therefore support people in learning to pleasure another person by developing a profound capacity to listen and be present, first with oneself and then with others. That happens with practicing deep attention and responding to feedback. It first start with no touch practices for improving your felt sense. Then you learn how to touch yourself by deeply listening to your body clues and responding to them. The skill gets developed to the point that it brings you to the states of alternate consciousness, bliss, connection with all. For this stage it helps to come to me and receive touch from someone in a state of deep loving presence. Once there, you can practice two-way touch. At this stage I teach Wheel of Consent, authentic communication and establishing safe container while engaging in a non-sexual two-way touch. I do not engage in a sexual two-way touch with clients. This is my personal boundary, but also I strongly believe that what I give is a brilliant way to prepare for a partnered interaction. Men that has honed the skills are immensely attractive and would therefore have no problem finding a partner with whom they can build a caring two-way connection to go to genital touch. Moreover, genitals are not that different to our other sensitive areas and they do like very different things. I teach every person that I come with contact how to touch me. So in order to be able to pleasure other women, you need to have a lot of practice to touch skin in general and to learn from her how she likes to be touched. If I were to offer you a programme, it would be one of the following 3: - Intimacy Coaching: https://www.tantricmassage.life/intimacy-coaching , Supreme Inner Lover: https://www.tantricmassage.life/supreme-inner-lover , Tantric Bliss Initiation: https://www.tantricmassage.life/firstexprience Given that you mention ethnicity aspect a few times, there might be an emotional component around isolation. All of my treatments incorporate emotional integration, so we could look into that in either online or in-person session. Please let me know if you have any questions.\"}, {'question': \"Hello Thais, Thank you so much for your email and for all the information and options provided. It gives me confidence that even now I'm older, my future can still have loving and satisfying relationships. To address one of your points and for full transparency I am Sikh, which means I have long hair, a beard and often wear a turban. I raise this as often this is the reason given for a no when I've asked out many people in the past. Reading your points though....maybe I wasn't giving out the right energy for those women to be attracted to me. From the 3 offerings you suggested to me, I am not sure what would work best for me... potentially 1 or 3. As I have had a Tantric massage before, though many years ago, should I therefore go for No.1. I'm happy to take some guidance from you on this. I understand that you do not engage in 2-way touch but you also said you would teach me how to touch you so I want to understand where your boundaries are and make sure I have not misunderstood anything. Is there anything more you want to know about me? I see that your rates depend on desired goals, experience etc. so I'm happy to give you any information you need. Have a wonderful day. Jazz\", 'answer': 'Thank you for your email. A classic tantric massage is quite different to my initiation session. Moreover, this session with variations to how you progress can be done over 10+ times bringing benefit each time. Please could you take a look at the Partner Pleasuring page for more details around the path I propose for your objective and what offering is suitable at each stage. Bookings & Format page has information about my promotional offer for this month. I still have around 10 slots left to be booked at 30% off.'}]\n"
          ]
        }
      ],
      "source": [
        "# Load the dialogs from the JSON file\n",
        "dialogs0 = load_json('/content/drive/My Drive/ecstatic_earthling/apps/qa_prep_habit.json')\n",
        "dialogs = list()\n",
        "for i, item in enumerate(dialogs0):\n",
        "  dialogs.append(dialogs0[item])\n",
        "dialogs = [item for sublist in dialogs for item in sublist]\n",
        "print(dialogs)\n",
        "save_json(dialogs, 'new_dialogs.json')"
      ]
    },
    {
      "cell_type": "code",
      "execution_count": null,
      "metadata": {
        "id": "mqduqAX_qSG0"
      },
      "outputs": [],
      "source": [
        "import openai\n",
        "# Replace 'your_api_key' with your actual OpenAI API key\n",
        "openai_api_key = ''\n",
        "openai.api_key = openai_api_key\n",
        "# Function to load JSON data\n",
        "def load_json(file_path):\n",
        "    with open(file_path, 'r', encoding='utf-8') as file:\n",
        "        return json.load(file)\n",
        "# Function to save JSON data\n",
        "def save_json(data, file_path):\n",
        "    with open(file_path, 'w', encoding='utf-8') as file:\n",
        "        json.dump(data, file, ensure_ascii=False, indent=4)\n",
        "\n",
        "# Load the dialogs from the JSON file\n",
        "dialogs = load_json('new_dialogs.json')\n",
        "\n",
        "# Format the data into an FAQ structure\n",
        "faq_entries = []\n",
        "for entry in dialogs:\n",
        "    question = entry.get(\"question\", \"Unknown Question\")\n",
        "    answer = entry.get(\"answer\", \"No answer provided\")\n",
        "    faq_entries.append({\"question\": question, \"answer\": answer})\n",
        "\n",
        "# ... rest of your code ...\n",
        "\n",
        "# Example of using the API to refine the first FAQ entry\n",
        "response = openai.Completion.create(\n",
        "  engine=\"text-davinci-003\",\n",
        "  prompt=\"Refine this FAQ entry:\\n\\n\" + faq_entries[0][\"question\"] + \"\\n\" + faq_entries[0][\"answer\"],\n",
        "  max_tokens=100\n",
        ")\n",
        "refined_faq_entry = response.choices[0].text.strip()\n",
        "\n",
        "# Update the first FAQ entry with the refined version\n",
        "faq_entries[0][\"answer\"] = refined_faq_entry\n",
        "\n",
        "# Save the entire FAQ to a file\n",
        "save_json(faq_entries, 'faq.json')\n",
        "\n",
        "print(\"FAQ saved to faq.json\")\n",
        "for entry in faq_entries:\n",
        "  print(entry)"
      ]
    },
    {
      "cell_type": "code",
      "execution_count": null,
      "metadata": {
        "id": "vW36MUWJ-TMg"
      },
      "outputs": [],
      "source": [
        "import json\n",
        "import openai\n",
        "import numpy as np\n",
        "import faiss\n",
        "\n",
        "# # Replace 'your_api_key' with your actual OpenAI API key\n",
        "openai.api_key = ''\n",
        "\n",
        "# Function to load JSON data\n",
        "def load_json(file_path):\n",
        "    with open(file_path, 'r', encoding='utf-8') as file:\n",
        "        return json.load(file)\n",
        "\n",
        "# Load the FAQ entries\n",
        "faq_entries = load_json('faq.json')\n",
        "\n",
        "# Extract texts for embeddings\n",
        "texts = [entry['question'] + \" \" + entry['answer'] for entry in faq_entries]\n",
        "\n",
        "# Generate embeddings using OpenAI\n",
        "def get_embeddings(texts):\n",
        "    return openai.Embedding.create(input=texts, engine=\"text-similarity-babbage-001\")[\"data\"]\n",
        "\n",
        "embeddings = get_embeddings(texts)\n",
        "\n",
        "# Convert embeddings to a format suitable for FAISS\n",
        "embedding_matrix = np.array([embedding['embedding'] for embedding in embeddings])\n",
        "\n",
        "# Create a FAISS index\n",
        "index = faiss.IndexFlatL2(embedding_matrix.shape[1])\n",
        "index.add(embedding_matrix)\n",
        "\n",
        "# Now you can use the index for similarity searches\n",
        "# Example: searching for the embedding closest to the first entry\n",
        "distances, indices = index.search(embedding_matrix[0:1], k=5)\n",
        "\n",
        "print(\"Closest entries to the first one:\", indices)"
      ]
    },
    {
      "cell_type": "code",
      "execution_count": null,
      "metadata": {
        "id": "MsUmXcQDDbXO"
      },
      "outputs": [],
      "source": [
        "# \"\"\" WORKING Code for telegram bot below \"\"\"\n",
        "# !pip install python-telegram-bot\n",
        "# !pip install python-telegram-bot --upgrade\n",
        "# from telegram import Update\n",
        "# from telegram.ext import Updater, MessageHandler, Filters, CallbackContext\n",
        "\n",
        "# # Replace 'YOUR_TOKEN' with the token you received from BotFather\n",
        "# TOKEN = ''\n",
        "# def reply_message(update: Update, context: CallbackContext) -> None:\n",
        "#     \"\"\"Reply to the user message with a specific response.\"\"\"\n",
        "#     context.bot.send_message(chat_id=update.effective_chat.id, text=\"Я не знаю, спроси у ChatGPT\")\n",
        "\n",
        "# def main() -> None:\n",
        "#     \"\"\"Start the bot.\"\"\"\n",
        "#     updater = Updater(TOKEN, use_context=True)\n",
        "\n",
        "#     # Get the dispatcher to register handlers\n",
        "#     dp = updater.dispatcher\n",
        "\n",
        "#     # Handle all text messages\n",
        "#     message_handler = MessageHandler(Filters.text & (~Filters.command), reply_message)\n",
        "#     dp.add_handler(message_handler)\n",
        "\n",
        "#     # Start the Bot\n",
        "#     updater.start_polling()\n",
        "#     updater.idle()\n",
        "\n",
        "# if __name__ == '__main__':\n",
        "#     main()\n"
      ]
    },
    {
      "cell_type": "code",
      "execution_count": null,
      "metadata": {
        "id": "yXXl0mwCA9hy"
      },
      "outputs": [],
      "source": [
        "import openai\n",
        "import faiss\n",
        "import numpy as np\n",
        "from telegram import Update\n",
        "from telegram.ext import Updater, MessageHandler, Filters, CallbackContext\n",
        "# OpenAI API key\n",
        "openai.api_key = ''\n",
        "\n",
        "# Load or create your FAISS index and embeddings database\n",
        "# This is a placeholder. You need to load your precomputed embeddings and FAISS index here.\n",
        "embedding_matrix = embedding_matrix # np.load('your_embedding_matrix.npy')\n",
        "index = index # faiss.read_index('your_faiss_index.index')\n",
        "\n",
        "# Function to get embeddings\n",
        "def get_embeddings(text):\n",
        "    response = openai.Embedding.create(input=[text], engine=\"text-similarity-babbage-001\")\n",
        "    return np.array(response['data'][0]['embedding'])\n",
        "\n",
        "# Function to find the most similar entry in the database\n",
        "def find_most_similar(embedding):\n",
        "    distances, indices = index.search(embedding.reshape(1, -1), k=1)\n",
        "    return indices[0][0]  # Return the index of the most similar entry\n",
        "\n",
        "# Replace 'YOUR_TOKEN' with the token you received from BotFather\n",
        "TOKEN = ''\n",
        "\n",
        "def reply_message(update: Update, context: CallbackContext) -> None:\n",
        "    \"\"\"Reply to the user message with a specific response.\"\"\"\n",
        "    # Check if the update contains a message and the message contains text\n",
        "    if update.message and update.message.text:\n",
        "        user_message = update.message.text\n",
        "        # Process the message (e.g., find a similar embedding, respond accordingly)\n",
        "        # For now, just sending a placeholder response\n",
        "        context.bot.send_message(chat_id=update.effective_chat.id, text=\"Я не знаю, спроси у ChatGPT\")\n",
        "    else:\n",
        "        # Handle non-text updates (optional)\n",
        "        pass\n",
        "\n",
        "def main() -> None:\n",
        "    \"\"\"Start the bot.\"\"\"\n",
        "    updater = Updater(TOKEN)\n",
        "\n",
        "    # Get the dispatcher to register handlers\n",
        "    dp = updater.dispatcher\n",
        "\n",
        "    # Handle all text messages\n",
        "    message_handler = MessageHandler(Filters.text & (~Filters.command), reply_message)\n",
        "    dp.add_handler(message_handler)\n",
        "\n",
        "    # Start the Bot\n",
        "    updater.start_polling()\n",
        "    updater.idle()\n",
        "\n",
        "if __name__ == '__main__':\n",
        "    main()\n"
      ]
    }
  ],
  "metadata": {
    "colab": {
      "provenance": [],
      "toc_visible": true,
      "authorship_tag": "ABX9TyMR+LfWnvFLBfYOc7Jvwjwa",
      "include_colab_link": true
    },
    "kernelspec": {
      "display_name": "Python 3",
      "name": "python3"
    },
    "language_info": {
      "name": "python"
    }
  },
  "nbformat": 4,
  "nbformat_minor": 0
}