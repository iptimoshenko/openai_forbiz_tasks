{
  "nbformat": 4,
  "nbformat_minor": 0,
  "metadata": {
    "colab": {
      "provenance": [],
      "authorship_tag": "ABX9TyOm7qhmG0wPMMr0BlWBJXTa",
      "include_colab_link": true
    },
    "kernelspec": {
      "name": "python3",
      "display_name": "Python 3"
    },
    "language_info": {
      "name": "python"
    }
  },
  "cells": [
    {
      "cell_type": "markdown",
      "metadata": {
        "id": "view-in-github",
        "colab_type": "text"
      },
      "source": [
        "<a href=\"https://colab.research.google.com/github/iptimoshenko/openai_forbiz_tasks/blob/main/analysis_bank_statement.ipynb\" target=\"_parent\"><img src=\"https://colab.research.google.com/assets/colab-badge.svg\" alt=\"Open In Colab\"/></a>"
      ]
    },
    {
      "cell_type": "markdown",
      "source": [
        "\n",
        "\n",
        "```\n",
        "# This code analyses expenses from pdf files in bank_statements folder on a google drive.\n",
        "```\n",
        "\n"
      ],
      "metadata": {
        "id": "l0_k4coIUiuL"
      }
    },
    {
      "cell_type": "code",
      "execution_count": null,
      "metadata": {
        "id": "2jeMjPKRImdr"
      },
      "outputs": [],
      "source": [
        "from google.colab import files\n",
        "\n",
        "uploaded = files.upload()\n",
        "\n",
        "for fn in uploaded.keys():\n",
        "  print('User uploaded file \"{name}\" with length {length} bytes'.format(\n",
        "      name=fn, length=len(uploaded[fn])))"
      ]
    },
    {
      "cell_type": "code",
      "source": [
        "from google.colab import drive\n",
        "drive.mount('/content/drive')"
      ],
      "metadata": {
        "colab": {
          "base_uri": "https://localhost:8080/"
        },
        "id": "cfoL-UYRIoEY",
        "outputId": "0952d114-a864-41eb-b82c-54973baab6c4"
      },
      "execution_count": null,
      "outputs": [
        {
          "output_type": "stream",
          "name": "stdout",
          "text": [
            "Mounted at /content/drive\n"
          ]
        }
      ]
    },
    {
      "cell_type": "code",
      "source": [
        "!pip install PyPDF2\n",
        "import PyPDF2\n",
        "import os\n",
        "import pandas as pd"
      ],
      "metadata": {
        "colab": {
          "base_uri": "https://localhost:8080/"
        },
        "id": "1Drk44Z2TXws",
        "outputId": "65e11fbe-1542-4064-9ca7-88cd13f5d0aa"
      },
      "execution_count": null,
      "outputs": [
        {
          "output_type": "stream",
          "name": "stdout",
          "text": [
            "Collecting PyPDF2\n",
            "  Downloading pypdf2-3.0.1-py3-none-any.whl (232 kB)\n",
            "\u001b[2K     \u001b[90m━━━━━━━━━━━━━━━━━━━━━━━━━━━━━━━━━━━━━━━━\u001b[0m \u001b[32m232.6/232.6 kB\u001b[0m \u001b[31m4.2 MB/s\u001b[0m eta \u001b[36m0:00:00\u001b[0m\n",
            "\u001b[?25hInstalling collected packages: PyPDF2\n",
            "Successfully installed PyPDF2-3.0.1\n"
          ]
        }
      ]
    },
    {
      "cell_type": "code",
      "source": [
        "folder_path = '/content/drive/My Drive/docs/bank_statements'  # Change to your folder path\n",
        "files = os.listdir(folder_path)\n",
        "\n",
        "# Filter out only PDF files\n",
        "pdf_files = [file for file in files if file.endswith('.pdf')]"
      ],
      "metadata": {
        "id": "8ILFxQHaJsqs"
      },
      "execution_count": null,
      "outputs": []
    },
    {
      "cell_type": "code",
      "source": [
        "def extract_text_from_pdf(file_path):\n",
        "    text_content = ''\n",
        "    with open(file_path, 'rb') as file:\n",
        "        pdf_reader = PyPDF2.PdfReader(file)\n",
        "        for page_num in range(len(pdf_reader.pages)):\n",
        "            page = pdf_reader.pages[page_num]\n",
        "            text_content += page.extract_text()\n",
        "    return text_content\n",
        "\n",
        "all_texts = []\n",
        "for pdf_file in pdf_files:\n",
        "    file_path = os.path.join(folder_path, pdf_file)\n",
        "    text = extract_text_from_pdf(file_path)\n",
        "    all_texts.append(text)"
      ],
      "metadata": {
        "colab": {
          "base_uri": "https://localhost:8080/"
        },
        "id": "ThmDBHPHTwNA",
        "outputId": "9908fcae-c0d7-4c4f-cc7f-74d8f93f25ae"
      },
      "execution_count": null,
      "outputs": [
        {
          "output_type": "stream",
          "name": "stderr",
          "text": [
            "WARNING:PyPDF2._reader:incorrect startxref pointer(1)\n",
            "WARNING:PyPDF2._reader:Object ID 35,0 ref repaired\n",
            "WARNING:PyPDF2._reader:Object ID 1,0 ref repaired\n",
            "WARNING:PyPDF2._reader:Object ID 29,0 ref repaired\n",
            "WARNING:PyPDF2._reader:Object ID 33,0 ref repaired\n",
            "WARNING:PyPDF2._reader:Object ID 5,0 ref repaired\n",
            "WARNING:PyPDF2._reader:Object ID 7,0 ref repaired\n",
            "WARNING:PyPDF2._reader:Object ID 9,0 ref repaired\n",
            "WARNING:PyPDF2._reader:Object ID 11,0 ref repaired\n",
            "WARNING:PyPDF2._reader:Object ID 13,0 ref repaired\n",
            "WARNING:PyPDF2._reader:Object ID 15,0 ref repaired\n",
            "WARNING:PyPDF2._reader:Object ID 17,0 ref repaired\n",
            "WARNING:PyPDF2._reader:Object ID 19,0 ref repaired\n",
            "WARNING:PyPDF2._reader:Object ID 21,0 ref repaired\n",
            "WARNING:PyPDF2._reader:Object ID 23,0 ref repaired\n",
            "WARNING:PyPDF2._reader:Object ID 25,0 ref repaired\n",
            "WARNING:PyPDF2._reader:Object ID 27,0 ref repaired\n",
            "WARNING:PyPDF2._reader:Object ID 28,0 ref repaired\n",
            "WARNING:PyPDF2._reader:Object ID 31,0 ref repaired\n",
            "WARNING:PyPDF2._reader:Object ID 34,0 ref repaired\n",
            "WARNING:PyPDF2._reader:incorrect startxref pointer(1)\n",
            "WARNING:PyPDF2._reader:Object ID 35,0 ref repaired\n",
            "WARNING:PyPDF2._reader:Object ID 1,0 ref repaired\n",
            "WARNING:PyPDF2._reader:Object ID 29,0 ref repaired\n",
            "WARNING:PyPDF2._reader:Object ID 33,0 ref repaired\n",
            "WARNING:PyPDF2._reader:Object ID 5,0 ref repaired\n",
            "WARNING:PyPDF2._reader:Object ID 7,0 ref repaired\n",
            "WARNING:PyPDF2._reader:Object ID 9,0 ref repaired\n",
            "WARNING:PyPDF2._reader:Object ID 11,0 ref repaired\n",
            "WARNING:PyPDF2._reader:Object ID 13,0 ref repaired\n",
            "WARNING:PyPDF2._reader:Object ID 15,0 ref repaired\n",
            "WARNING:PyPDF2._reader:Object ID 17,0 ref repaired\n",
            "WARNING:PyPDF2._reader:Object ID 19,0 ref repaired\n",
            "WARNING:PyPDF2._reader:Object ID 21,0 ref repaired\n",
            "WARNING:PyPDF2._reader:Object ID 23,0 ref repaired\n",
            "WARNING:PyPDF2._reader:Object ID 25,0 ref repaired\n",
            "WARNING:PyPDF2._reader:Object ID 27,0 ref repaired\n",
            "WARNING:PyPDF2._reader:Object ID 28,0 ref repaired\n",
            "WARNING:PyPDF2._reader:Object ID 31,0 ref repaired\n",
            "WARNING:PyPDF2._reader:Object ID 34,0 ref repaired\n",
            "WARNING:PyPDF2._reader:incorrect startxref pointer(1)\n",
            "WARNING:PyPDF2._reader:Object ID 41,0 ref repaired\n",
            "WARNING:PyPDF2._reader:Object ID 1,0 ref repaired\n",
            "WARNING:PyPDF2._reader:Object ID 29,0 ref repaired\n",
            "WARNING:PyPDF2._reader:Object ID 33,0 ref repaired\n",
            "WARNING:PyPDF2._reader:Object ID 36,0 ref repaired\n",
            "WARNING:PyPDF2._reader:Object ID 39,0 ref repaired\n",
            "WARNING:PyPDF2._reader:Object ID 5,0 ref repaired\n",
            "WARNING:PyPDF2._reader:Object ID 7,0 ref repaired\n",
            "WARNING:PyPDF2._reader:Object ID 9,0 ref repaired\n",
            "WARNING:PyPDF2._reader:Object ID 11,0 ref repaired\n",
            "WARNING:PyPDF2._reader:Object ID 13,0 ref repaired\n",
            "WARNING:PyPDF2._reader:Object ID 15,0 ref repaired\n",
            "WARNING:PyPDF2._reader:Object ID 17,0 ref repaired\n",
            "WARNING:PyPDF2._reader:Object ID 19,0 ref repaired\n",
            "WARNING:PyPDF2._reader:Object ID 21,0 ref repaired\n",
            "WARNING:PyPDF2._reader:Object ID 23,0 ref repaired\n",
            "WARNING:PyPDF2._reader:Object ID 25,0 ref repaired\n",
            "WARNING:PyPDF2._reader:Object ID 27,0 ref repaired\n",
            "WARNING:PyPDF2._reader:Object ID 28,0 ref repaired\n",
            "WARNING:PyPDF2._reader:Object ID 31,0 ref repaired\n",
            "WARNING:PyPDF2._reader:Object ID 34,0 ref repaired\n",
            "WARNING:PyPDF2._reader:Object ID 37,0 ref repaired\n",
            "WARNING:PyPDF2._reader:Object ID 35,0 ref repaired\n",
            "WARNING:PyPDF2._reader:Object ID 40,0 ref repaired\n",
            "WARNING:PyPDF2._reader:Object ID 38,0 ref repaired\n",
            "WARNING:PyPDF2._reader:incorrect startxref pointer(1)\n",
            "WARNING:PyPDF2._reader:Object ID 35,0 ref repaired\n",
            "WARNING:PyPDF2._reader:Object ID 1,0 ref repaired\n",
            "WARNING:PyPDF2._reader:Object ID 29,0 ref repaired\n",
            "WARNING:PyPDF2._reader:Object ID 33,0 ref repaired\n",
            "WARNING:PyPDF2._reader:Object ID 5,0 ref repaired\n",
            "WARNING:PyPDF2._reader:Object ID 7,0 ref repaired\n",
            "WARNING:PyPDF2._reader:Object ID 9,0 ref repaired\n",
            "WARNING:PyPDF2._reader:Object ID 11,0 ref repaired\n",
            "WARNING:PyPDF2._reader:Object ID 13,0 ref repaired\n",
            "WARNING:PyPDF2._reader:Object ID 15,0 ref repaired\n",
            "WARNING:PyPDF2._reader:Object ID 17,0 ref repaired\n",
            "WARNING:PyPDF2._reader:Object ID 19,0 ref repaired\n",
            "WARNING:PyPDF2._reader:Object ID 21,0 ref repaired\n",
            "WARNING:PyPDF2._reader:Object ID 23,0 ref repaired\n",
            "WARNING:PyPDF2._reader:Object ID 25,0 ref repaired\n",
            "WARNING:PyPDF2._reader:Object ID 27,0 ref repaired\n",
            "WARNING:PyPDF2._reader:Object ID 28,0 ref repaired\n",
            "WARNING:PyPDF2._reader:Object ID 31,0 ref repaired\n",
            "WARNING:PyPDF2._reader:Object ID 34,0 ref repaired\n",
            "WARNING:PyPDF2._reader:incorrect startxref pointer(1)\n",
            "WARNING:PyPDF2._reader:Object ID 35,0 ref repaired\n",
            "WARNING:PyPDF2._reader:Object ID 1,0 ref repaired\n",
            "WARNING:PyPDF2._reader:Object ID 29,0 ref repaired\n",
            "WARNING:PyPDF2._reader:Object ID 33,0 ref repaired\n",
            "WARNING:PyPDF2._reader:Object ID 5,0 ref repaired\n",
            "WARNING:PyPDF2._reader:Object ID 7,0 ref repaired\n",
            "WARNING:PyPDF2._reader:Object ID 9,0 ref repaired\n",
            "WARNING:PyPDF2._reader:Object ID 11,0 ref repaired\n",
            "WARNING:PyPDF2._reader:Object ID 13,0 ref repaired\n",
            "WARNING:PyPDF2._reader:Object ID 15,0 ref repaired\n",
            "WARNING:PyPDF2._reader:Object ID 17,0 ref repaired\n",
            "WARNING:PyPDF2._reader:Object ID 19,0 ref repaired\n",
            "WARNING:PyPDF2._reader:Object ID 21,0 ref repaired\n",
            "WARNING:PyPDF2._reader:Object ID 23,0 ref repaired\n",
            "WARNING:PyPDF2._reader:Object ID 25,0 ref repaired\n",
            "WARNING:PyPDF2._reader:Object ID 27,0 ref repaired\n",
            "WARNING:PyPDF2._reader:Object ID 28,0 ref repaired\n",
            "WARNING:PyPDF2._reader:Object ID 31,0 ref repaired\n",
            "WARNING:PyPDF2._reader:Object ID 34,0 ref repaired\n",
            "WARNING:PyPDF2._reader:incorrect startxref pointer(1)\n",
            "WARNING:PyPDF2._reader:Object ID 35,0 ref repaired\n",
            "WARNING:PyPDF2._reader:Object ID 1,0 ref repaired\n",
            "WARNING:PyPDF2._reader:Object ID 29,0 ref repaired\n",
            "WARNING:PyPDF2._reader:Object ID 33,0 ref repaired\n",
            "WARNING:PyPDF2._reader:Object ID 5,0 ref repaired\n",
            "WARNING:PyPDF2._reader:Object ID 7,0 ref repaired\n",
            "WARNING:PyPDF2._reader:Object ID 9,0 ref repaired\n",
            "WARNING:PyPDF2._reader:Object ID 11,0 ref repaired\n",
            "WARNING:PyPDF2._reader:Object ID 13,0 ref repaired\n",
            "WARNING:PyPDF2._reader:Object ID 15,0 ref repaired\n",
            "WARNING:PyPDF2._reader:Object ID 17,0 ref repaired\n",
            "WARNING:PyPDF2._reader:Object ID 19,0 ref repaired\n",
            "WARNING:PyPDF2._reader:Object ID 21,0 ref repaired\n",
            "WARNING:PyPDF2._reader:Object ID 23,0 ref repaired\n",
            "WARNING:PyPDF2._reader:Object ID 25,0 ref repaired\n",
            "WARNING:PyPDF2._reader:Object ID 27,0 ref repaired\n",
            "WARNING:PyPDF2._reader:Object ID 28,0 ref repaired\n",
            "WARNING:PyPDF2._reader:Object ID 31,0 ref repaired\n",
            "WARNING:PyPDF2._reader:Object ID 34,0 ref repaired\n",
            "WARNING:PyPDF2._reader:incorrect startxref pointer(1)\n",
            "WARNING:PyPDF2._reader:Object ID 35,0 ref repaired\n",
            "WARNING:PyPDF2._reader:Object ID 1,0 ref repaired\n",
            "WARNING:PyPDF2._reader:Object ID 29,0 ref repaired\n",
            "WARNING:PyPDF2._reader:Object ID 33,0 ref repaired\n",
            "WARNING:PyPDF2._reader:Object ID 5,0 ref repaired\n",
            "WARNING:PyPDF2._reader:Object ID 7,0 ref repaired\n",
            "WARNING:PyPDF2._reader:Object ID 9,0 ref repaired\n",
            "WARNING:PyPDF2._reader:Object ID 11,0 ref repaired\n",
            "WARNING:PyPDF2._reader:Object ID 13,0 ref repaired\n",
            "WARNING:PyPDF2._reader:Object ID 15,0 ref repaired\n",
            "WARNING:PyPDF2._reader:Object ID 17,0 ref repaired\n",
            "WARNING:PyPDF2._reader:Object ID 19,0 ref repaired\n",
            "WARNING:PyPDF2._reader:Object ID 21,0 ref repaired\n",
            "WARNING:PyPDF2._reader:Object ID 23,0 ref repaired\n",
            "WARNING:PyPDF2._reader:Object ID 25,0 ref repaired\n",
            "WARNING:PyPDF2._reader:Object ID 27,0 ref repaired\n",
            "WARNING:PyPDF2._reader:Object ID 28,0 ref repaired\n",
            "WARNING:PyPDF2._reader:Object ID 31,0 ref repaired\n",
            "WARNING:PyPDF2._reader:Object ID 34,0 ref repaired\n"
          ]
        }
      ]
    },
    {
      "cell_type": "code",
      "source": [
        "# Example: Simple logic to search for specific keywords\n",
        "# Note: This is highly simplistic and should be adapted to your specific PDF structure and needs\n",
        "expense_categories = {'groceries': 0, 'utilities': 0, 'rent': 0, 'transport': 0, 'hotel': 0, 'flight': 0}  # example categories\n",
        "for text in all_texts:\n",
        "    for category in expense_categories.keys():\n",
        "        if category in text.lower():\n",
        "            expense_categories[category] += 1  # increment count (or sum amounts if you have that data)\n",
        "\n",
        "# Convert to DataFrame for easier analysis\n",
        "expenses_df = pd.DataFrame(list(expense_categories.items()), columns=['Category', 'Count'])\n",
        "print(expenses_df)"
      ],
      "metadata": {
        "colab": {
          "base_uri": "https://localhost:8080/"
        },
        "id": "EQZ_YhTTT2dV",
        "outputId": "4737d962-c35b-4e9e-d1d2-812ba3fa75c7"
      },
      "execution_count": null,
      "outputs": [
        {
          "output_type": "stream",
          "name": "stdout",
          "text": [
            "    Category  Count\n",
            "0  groceries      0\n",
            "1  utilities      0\n",
            "2       rent     15\n",
            "3  transport      0\n",
            "4      hotel      2\n",
            "5     flight      0\n"
          ]
        }
      ]
    }
  ]
}